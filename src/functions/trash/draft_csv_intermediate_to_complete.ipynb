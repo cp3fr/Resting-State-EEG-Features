{
 "cells": [
  {
   "cell_type": "code",
   "execution_count": null,
   "metadata": {},
   "outputs": [],
   "source": [
    "import os, sys, re, csv, matplotlib\n",
    "import pandas as pd\n",
    "# import numpy as np\n",
    "# import matplotlib.pyplot as plt\n",
    "# %matplotlib inline\n",
    "\n",
    "ROOTPATH = '/Volumes/methlab/HBN_RestingEEG_Features/results/csv/'\n",
    "INPATH = ROOTPATH + 'features_psd_average/row_%d.csv'\n",
    "OUTPATH = ROOTPATH + 'test.csv'\n",
    "\n",
    "#row_1.csv (has header)\n",
    "#row_2.csv and following (no header)\n",
    "filenames = [INPATH % row for row in range(2,6)]\n",
    "print(filenames)\n",
    "\n",
    "# df = pd.concat([pd.read_csv(f) for f in filenames ])\n",
    "\n",
    "\n",
    "# print(df)\n",
    "\n",
    "# df = pd.read_csv(filenames[0])\n",
    "\n",
    "# df.to_csv(OUTPATH, index=False, encoding='utf-8-sig')"
   ]
  },
  {
   "cell_type": "code",
   "execution_count": null,
   "metadata": {},
   "outputs": [],
   "source": []
  }
 ],
 "metadata": {
  "kernelspec": {
   "display_name": "Python 3",
   "language": "python",
   "name": "python3"
  },
  "language_info": {
   "codemirror_mode": {
    "name": "ipython",
    "version": 3
   },
   "file_extension": ".py",
   "mimetype": "text/x-python",
   "name": "python",
   "nbconvert_exporter": "python",
   "pygments_lexer": "ipython3",
   "version": "3.7.4"
  }
 },
 "nbformat": 4,
 "nbformat_minor": 2
}
